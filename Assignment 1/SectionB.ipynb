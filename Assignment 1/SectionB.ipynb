{
 "cells": [
  {
   "cell_type": "code",
   "execution_count": 7,
   "metadata": {},
   "outputs": [
    {
     "name": "stdout",
     "output_type": "stream",
     "text": [
      "(4238, 16)\n",
      "(2966, 16)\n",
      "(636, 16)\n",
      "(636, 16)\n"
     ]
    }
   ],
   "source": [
    "import pandas as pd\n",
    "import numpy as np  \n",
    "\n",
    "dataset = pd.read_csv('HeartDisease.csv')\n",
    "print(dataset.shape)\n",
    "\n",
    "dataset['education'] = dataset['education'].fillna(1)\n",
    "dataset['cigsPerDay'] = dataset['cigsPerDay'].fillna(1)\n",
    "dataset['BPMeds'] = dataset['BPMeds'].fillna(0)\n",
    "\n",
    "columns_to_fill = ['totChol', 'BMI', 'glucose', \"heartRate\"]\n",
    "means = dataset[columns_to_fill].mean()\n",
    "dataset[columns_to_fill] = dataset[columns_to_fill].fillna(means)\n",
    "\n",
    "from sklearn.model_selection import train_test_split\n",
    "trainSet, tempSet = train_test_split(dataset, test_size=0.30, random_state=42)\n",
    "valSet, testSet = train_test_split(tempSet, test_size=0.50, random_state=42)\n",
    "\n",
    "print(trainSet.shape)\n",
    "print(valSet.shape)\n",
    "print(testSet.shape)\n",
    "\n",
    "\n"
   ]
  },
  {
   "cell_type": "code",
   "execution_count": 11,
   "metadata": {},
   "outputs": [
    {
     "name": "stdout",
     "output_type": "stream",
     "text": [
      "Cost after iteration 0: 0.6931471605599454\n",
      "Cost after iteration 100: 2.7768805664586638\n",
      "Cost after iteration 200: 2.8320399171079833\n",
      "Cost after iteration 300: 2.8320399171079833\n",
      "Cost after iteration 400: 2.8320399171079833\n",
      "Cost after iteration 500: 2.8320399171079833\n",
      "Cost after iteration 600: 5.56829530272688\n",
      "Cost after iteration 700: 2.8320399171079833\n"
     ]
    },
    {
     "name": "stderr",
     "output_type": "stream",
     "text": [
      "C:\\Users\\himan\\AppData\\Local\\Temp\\ipykernel_3564\\1442291715.py:2: RuntimeWarning: overflow encountered in exp\n",
      "  return 1 / (1 + np.exp(-z))\n"
     ]
    },
    {
     "name": "stdout",
     "output_type": "stream",
     "text": [
      "Cost after iteration 800: 9.82530695740653\n",
      "Cost after iteration 900: 12.7068669159334\n",
      "Cost after iteration 1000: 2.7498658648025787\n",
      "Cost after iteration 1100: 2.8320399171079833\n",
      "Cost after iteration 1200: 2.729245000053427\n",
      "Cost after iteration 1300: 13.484325053451911\n",
      "Cost after iteration 1400: 2.8320399171079833\n",
      "Cost after iteration 1500: 2.8320399171079833\n",
      "Cost after iteration 1600: 5.025057276301758\n",
      "Cost after iteration 1700: 2.8320399171079833\n",
      "Cost after iteration 1800: 2.8320399171079833\n",
      "Cost after iteration 1900: 2.8320399171079833\n",
      "Cost after iteration 2000: 2.8320399171079833\n",
      "Cost after iteration 2100: 2.8320399171079833\n",
      "Cost after iteration 2200: 12.088047030012648\n",
      "Cost after iteration 2300: 2.8320399171079833\n",
      "Cost after iteration 2400: 7.731299379877121\n",
      "Cost after iteration 2500: 2.8320399171079833\n",
      "Cost after iteration 2600: 2.8320399171079833\n",
      "Cost after iteration 2700: 2.720903941969891\n",
      "Cost after iteration 2800: 2.8320399171079833\n",
      "Cost after iteration 2900: 2.8320399171079833\n",
      "Cost after iteration 3000: 2.8320399171079833\n",
      "Cost after iteration 3100: 8.266819571542584\n",
      "Cost after iteration 3200: 2.792233857628944\n",
      "Cost after iteration 3300: 2.6116809722321848\n",
      "Cost after iteration 3400: 2.8706118233365565\n",
      "Cost after iteration 3500: 2.7905074464092365\n",
      "Cost after iteration 3600: 2.8216699589286636\n",
      "Cost after iteration 3700: 2.8320399171079833\n",
      "Cost after iteration 3800: 10.855209709013575\n",
      "Cost after iteration 3900: 7.006847262331737\n",
      "Cost after iteration 4000: 2.8320399171079833\n",
      "Cost after iteration 4100: 2.9752030062850503\n",
      "Cost after iteration 4200: 2.8320399171079833\n",
      "Cost after iteration 4300: 2.8320399171079833\n",
      "Cost after iteration 4400: 2.6035177597336427\n",
      "Cost after iteration 4500: 2.808491012040364\n",
      "Cost after iteration 4600: 2.683850797556781\n",
      "Cost after iteration 4700: 8.654729606814117\n",
      "Cost after iteration 4800: 12.035131877617504\n",
      "Cost after iteration 4900: 2.739639795650652\n"
     ]
    },
    {
     "data": {
      "text/plain": [
       "(array([ 0.32492833,  1.82870105, -0.93187954, -0.21698395,  1.00766739,\n",
       "         0.17943301,  0.06533717,  0.83479168,  0.12752778, -0.35575887,\n",
       "         1.36825997, -1.33290861, -2.44367647, -1.55810608,  0.53395162]),\n",
       " -0.3301622229603421)"
      ]
     },
     "execution_count": 11,
     "metadata": {},
     "output_type": "execute_result"
    }
   ],
   "source": [
    "def sigmoid(z):\n",
    "    return 1 / (1 + np.exp(-z))\n",
    "\n",
    "def crossEntropyLoss(y_true, y_pred):\n",
    "    m = len(y_true)\n",
    "    return -(1/m) * np.sum(y_true * np.log(y_pred+1e-8) + (1 - y_true) * np.log(1 - y_pred+1e-8))\n",
    "\n",
    "\n",
    "def LogisticRegressionBatchGD(X, y, learning_rate, iterations):\n",
    "    m = len(y)\n",
    "    \n",
    "    weights = np.zeros(X.shape[1])\n",
    "    bias = 0\n",
    "    \n",
    "    for i in range(iterations):\n",
    "        z = np.dot(X, weights) + bias\n",
    "        y_pred = sigmoid(z)\n",
    "\n",
    "        dz = y_pred - y\n",
    "        dw = (1/m) * np.dot(X.T, dz)\n",
    "        db = (1/m) * np.sum(dz)\n",
    "\n",
    "        weights -= learning_rate * dw\n",
    "        bias -= learning_rate * db\n",
    "\n",
    "        loss = crossEntropyLoss(y, y_pred)\n",
    "\n",
    "        if i % 100 == 0:\n",
    "            print(f'Cost after iteration {i}: {loss}')\n",
    "\n",
    "    return weights, bias\n",
    "\n",
    "\n",
    "X = trainSet.iloc[:, :-1].values\n",
    "y = trainSet.iloc[:, -1].values\n",
    "LogisticRegressionBatchGD(X,y,0.01,5000)"
   ]
  }
 ],
 "metadata": {
  "kernelspec": {
   "display_name": "Python 3",
   "language": "python",
   "name": "python3"
  },
  "language_info": {
   "codemirror_mode": {
    "name": "ipython",
    "version": 3
   },
   "file_extension": ".py",
   "mimetype": "text/x-python",
   "name": "python",
   "nbconvert_exporter": "python",
   "pygments_lexer": "ipython3",
   "version": "3.11.9"
  }
 },
 "nbformat": 4,
 "nbformat_minor": 2
}
